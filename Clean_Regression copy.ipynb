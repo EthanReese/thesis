{
 "cells": [
  {
   "cell_type": "code",
   "execution_count": 10,
   "metadata": {},
   "outputs": [],
   "source": [
    "import pandas as pd\n",
    "import numpy as np\n",
    "import emd\n",
    "import pylab as plt\n",
    "import statsmodels.api as sm\n",
    "import plotly.express as px\n",
    "import os\n",
    "from sklearn import linear_model\n",
    "np.random.seed(1)"
   ]
  },
  {
   "cell_type": "code",
   "execution_count": 2,
   "metadata": {},
   "outputs": [],
   "source": [
    "def filter_and_regress(combined_data, country, coal_data = \"./Data/Bloomberg/Rotterdam Coal.xlsx\", \n",
    "        low_pass_percent=0.1, med_pass_percent=0.3, high_pass_percent=0.5, log_adj=20):\n",
    "        \n",
    "\n",
    "        combined_data = combined_data.merge(coal_data, on = \"Date\", how=\"left\")\n",
    "\n",
    "        combined_data = combined_data[[\"Last Price\", \"Price\", \"Forecast\", \"Coal Price\"]]\n",
    "        combined_data = combined_data.dropna(axis=0)\n",
    "        elec_price = combined_data[\"Price\"].to_numpy()\n",
    "        lng_price = combined_data[\"Last Price\"].to_numpy()\n",
    "        coal_price  = combined_data[\"Coal Price\"].to_numpy()\n",
    "        demand = combined_data[\"Forecast\"].to_numpy()\n",
    "        # plot and transform all of the data for electricity pricing\n",
    "        #plt.figure()\n",
    "        #plt.plot(elec_price, \"k\")\n",
    "\n",
    "        imf, noise = emd.sift.complete_ensemble_sift(elec_price, ensemble_noise=1)\n",
    "        # create the pass thresholds based on the input percentages\n",
    "        low_pass_thresh_elec = int(np.ceil(low_pass_percent * imf.shape[1]))\n",
    "        med_pass_thresh_elec = int(np.ceil(med_pass_percent * imf.shape[1]))\n",
    "        high_pass_thresh_elec = int(np.ceil(high_pass_percent * imf.shape[1]))\n",
    "        #emd.plotting.plot_imfs(imf)\n",
    "\n",
    "        IP, IF, IA = emd.spectra.frequency_transform(imf, 2156, \"hilbert\")\n",
    "        # plot and transform all of the data for LNG prices\n",
    "        #plt.figure()\n",
    "        #plt.plot(lng_price, \"k\")\n",
    "\n",
    "        lng_imf, lng_noise = emd.sift.complete_ensemble_sift(lng_price, ensemble_noise=1)\n",
    "        low_pass_thresh_lng = int(np.ceil(low_pass_percent * lng_imf.shape[1]))\n",
    "        med_pass_thresh_lng = int(np.ceil(med_pass_percent * lng_imf.shape[1]))\n",
    "        high_pass_thresh_lng = int(np.ceil(high_pass_percent * lng_imf.shape[1]))\n",
    "\n",
    "        #emd.plotting.plot_imfs(lng_imf)\n",
    "\n",
    "        IP, IF, IA = emd.spectra.frequency_transform(imf, 2156, \"hilbert\")\n",
    "\n",
    "        demand_imf, demand_noise = emd.sift.complete_ensemble_sift(demand, ensemble_noise=1)\n",
    "        low_pass_thresh_demand = int(np.ceil(low_pass_percent * demand_imf.shape[1]))\n",
    "        med_pass_thresh_demand = int(np.ceil(med_pass_percent * demand_imf.shape[1]))\n",
    "        high_pass_thresh_demand = int(np.ceil(high_pass_percent * demand_imf.shape[1]))\n",
    "\n",
    "        coal_imf, coal_noise = emd.sift.complete_ensemble_sift(coal_price, ensemble_noise=1)\n",
    "        low_pass_thresh_coal = int(np.ceil(low_pass_percent * coal_imf.shape[1]))\n",
    "        med_pass_thresh_coal = int(np.ceil(med_pass_percent * coal_imf.shape[1]))\n",
    "        high_pass_thresh_coal = int(np.ceil(high_pass_percent * coal_imf.shape[1]))\n",
    "        \n",
    "        low_pass_elec = imf[:, low_pass_thresh_elec:]\n",
    "        low_pass_means_elec = np.apply_along_axis(np.mean, 1, low_pass_elec)\n",
    "\n",
    "        low_pass_lng = lng_imf[:, low_pass_thresh_lng:]\n",
    "        low_pass_means_lng = np.apply_along_axis(np.mean, 1, low_pass_lng)\n",
    "\n",
    "        low_pass_demand = demand_imf[:, low_pass_thresh_demand:]\n",
    "        low_pass_means_demand = np.apply_along_axis(np.mean, 1, low_pass_demand)\n",
    "\n",
    "        low_pass_coal = coal_imf[:, low_pass_thresh_coal:]\n",
    "        low_pass_means_coal = np.apply_along_axis(np.mean, 1, low_pass_coal)\n",
    "\n",
    "        #px.scatter(x=low_pass_means_elec, y=low_pass_means_lng)\n",
    "\n",
    "\n",
    "        med_pass_elec = imf[:, med_pass_thresh_elec:]\n",
    "        med_pass_means_elec = np.apply_along_axis(np.mean, 1, med_pass_elec)\n",
    "\n",
    "        med_pass_lng = lng_imf[:, med_pass_thresh_lng:]\n",
    "        med_pass_means_lng = np.apply_along_axis(np.mean, 1, med_pass_lng)\n",
    "\n",
    "        med_pass_demand = demand_imf[:, med_pass_thresh_demand:]\n",
    "        med_pass_means_demand = np.apply_along_axis(np.mean, 1, med_pass_demand)\n",
    "\n",
    "        med_pass_coal = coal_imf[:, med_pass_thresh_coal:]\n",
    "        med_pass_means_coal = np.apply_along_axis(np.mean, 1, med_pass_coal)\n",
    "\n",
    "        #px.scatter(x=med_pass_means_elec, y=med_pass_means_lng)\n",
    "        \"\"\"\n",
    "        high_pass_elec = imf[:, high_pass_thresh_elec:]\n",
    "        high_pass_means_elec = np.apply_along_axis(np.mean, 1, high_pass_elec)\n",
    "\n",
    "        high_pass_lng = lng_imf[:, high_pass_thresh_lng:]\n",
    "        high_pass_means_lng = np.apply_along_axis(np.mean, 1, high_pass_lng)\n",
    "\n",
    "        high_pass_demand = lng_imf[:, high_pass_thresh_demand:]\n",
    "        high_pass_means_demand = np.apply_along_axis(np.mean, 1, high_pass_demand)\n",
    "        \"\"\"\n",
    "        #px.scatter(x=high_pass_means_elec, y=high_pass_means_lng)\n",
    "        X_low = pd.DataFrame({\"LNG\": low_pass_means_lng, \"Coal\": low_pass_means_coal, \"Demand\": low_pass_means_demand})\n",
    "        X_low_log = X_low.copy()\n",
    "        X_low_log[\"LNG\"] = X_low_log[\"LNG\"].apply(lambda x: np.log(x+log_adj))\n",
    "        X_low_log[\"Coal\"] = X_low_log[\"Coal\"].apply(lambda x: np.log(x+log_adj))\n",
    "        low_model = linear_model.LinearRegression().fit(X_low_log, np.log(low_pass_means_elec+log_adj))\n",
    "        print(\"Low thresh LNG coefficient = {}, Coal Coefficient = {}, Demand Coefficient = {}\".format(low_model.coef_[0], low_model.coef_[1], low_model.coef_[2]))\n",
    "\n",
    "        X_med = pd.DataFrame({\"LNG\": med_pass_means_lng, \"Coal\": low_pass_means_coal, \"Demand\": med_pass_means_demand})\n",
    "        X_med_log = X_med.copy()\n",
    "        X_med_log[\"LNG\"] = X_med_log[\"LNG\"].apply(lambda x: np.log(x+log_adj))\n",
    "        X_med_log[\"Coal\"] = X_med_log[\"Coal\"].apply(lambda x: np.log(x+log_adj))\n",
    "        med_model = linear_model.LinearRegression().fit(X_med_log, np.log(med_pass_means_elec + log_adj))\n",
    "        print(\"Med thresh LNG coefficient = {}, Coal Coefficient = {}, Demand Coefficient = {}\".format(med_model.coef_[0], med_model.coef_[1], med_model.coef_[2]))\n",
    "        \"\"\"\n",
    "        X_high = pd.DataFrame({\"LNG\": high_pass_means_lng, \"Demand\": high_pass_means_demand})\n",
    "        X_high_log = X_high.copy()\n",
    "        X_high_log[\"LNG\"] = X_high_log[\"LNG\"].apply(lambda x: np.log(x + log_adj))\n",
    "        high_model = linear_model.LinearRegression().fit(X_high_log, np.log(high_pass_means_elec + log_adj))\n",
    "        print(\"High thresh LNG coefficient = {},  Demand Coefficent = {}\".format(high_model.coef_[0], high_model.coef_[1]))\n",
    "        \"\"\"\n",
    "        return low_model.coef_"
   ]
  },
  {
   "cell_type": "code",
   "execution_count": 3,
   "metadata": {},
   "outputs": [],
   "source": [
    "#filter_and_regress(pd.read_csv(\"./Data/Spain/combined_data.csv\"), \"Spain\")\n",
    "#data = pd.read_csv(\"./Data/Germany/combined.csv\")\n",
    "#filter_and_regress(data, \"Germany\")"
   ]
  },
  {
   "cell_type": "code",
   "execution_count": null,
   "metadata": {},
   "outputs": [],
   "source": [
    "def produce_graphs(coefs_pre, coefs_covid, coefs_war, country_name, combined_data, coal_data, log_adj = 25):\n",
    "        combined_data = combined_data.merge(coal_data, on = \"Date\", how=\"left\")\n",
    "\n",
    "        # calculate the columns based on each coefficient\n",
    "        combined_data = combined_data[[\"Date\", \"Last Price\", \"Price\", \"Forecast\", \"Coal Price\"]]\n",
    "        combined_data[\"Pre Covid Prediction\"] = np.exp((np.log(combined_data[\"Last Price\"]+log_adj) * coefs_pre[0]) \n",
    "                                                       + (np.log(combined_data[\"Coal Price\"] + log_adj) * coefs_pre[1]) \n",
    "                                                       + (combined_data[\"Forecast\"] * coefs_pre[2]))\n",
    "\n",
    "        combined_data[\"During Covid Prediction\"] = np.exp((np.log(combined_data[\"Last Price\"]+log_adj) * coefs_covid[0]) \n",
    "                                                       + (np.log(combined_data[\"Coal Price\"] + log_adj) * coefs_covid[1]) \n",
    "                                                       + (combined_data[\"Forecast\"] * coefs_covid[2]))\n",
    "        \n",
    "        fig = px.line(combined_data, x = combined_data[\"Date\"])\n",
    "\n"
   ]
  },
  {
   "cell_type": "code",
   "execution_count": 4,
   "metadata": {},
   "outputs": [],
   "source": [
    "# run regressions based on the timescales of COVID and war in Ukraine\n",
    "def timeperiod_differences(combined_data_path, country_name, coal_path = \"./Data/Bloomberg/Rotterdam Coal.xlsx\",\n",
    "                            log_adj=20):\n",
    "        # these serve as best guesses, change at will\n",
    "        COVID_START = \"2020-03-01\"\n",
    "        COVID_END = \"2021-06-20\" # 50% of Europe was vaccinated by this date: \n",
    "        # https://www.bbc.com/news/explainers-52380823\n",
    "        WAR_START = \"2022-02-01\"\n",
    "\n",
    "        coal_data = pd.read_excel(coal_path)\n",
    "        coal_data[\"Date\"] = pd.to_datetime(coal_data[\"Date\"])\n",
    "        coal_data[\"Coal Price\"] = coal_data[\"Last Price\"]\n",
    "        coal_data = coal_data[[\"Date\", \"Coal Price\"]]\n",
    "\n",
    "        # read in the data from the combined dataset\n",
    "        data = pd.read_csv(combined_data_path)\n",
    "        data[\"Date\"] = pd.to_datetime(data[\"Date\"])\n",
    "        pre_covid = data[data[\"Date\"] < COVID_START]\n",
    "\n",
    "        covid = data[data[\"Date\"] > COVID_START]\n",
    "        covid = covid[covid[\"Date\"] < COVID_END]\n",
    "\n",
    "        war = data[data[\"Date\"] > WAR_START]\n",
    "\n",
    "        # run the regressions on the given datasets\n",
    "        print(\"Pre-COVID in {}\".format(country_name))\n",
    "        filter_and_regress(pre_covid, country_name, coal_data, log_adj=log_adj)\n",
    "\n",
    "        print(\"COVID Era in {}\".format(country_name))\n",
    "        filter_and_regress(covid, country_name, coal_data, log_adj=log_adj)\n",
    "\n",
    "        print(\"War in Ukraine Era in {}\".format(country_name))\n",
    "        filter_and_regress(war, country_name, coal_data, log_adj=log_adj)\n",
    "\n",
    "\n",
    "\n"
   ]
  },
  {
   "cell_type": "code",
   "execution_count": 5,
   "metadata": {},
   "outputs": [
    {
     "name": "stdout",
     "output_type": "stream",
     "text": [
      "Pre-COVID in Spain\n",
      "Low thresh LNG coefficient = 0.5857487621381581, Coal Coefficient = 0.18239740454597186, Demand Coefficient = 4.8240494594453676e-05\n",
      "Med thresh LNG coefficient = 0.5726458550194345, Coal Coefficient = 0.22766980149121152, Demand Coefficient = 4.4040392168764875e-05\n",
      "COVID Era in Spain\n",
      "Low thresh LNG coefficient = 1.9522273640193555, Coal Coefficient = 0.2415844441287966, Demand Coefficient = 5.451028754924203e-05\n",
      "Med thresh LNG coefficient = 1.846089272643852, Coal Coefficient = 0.3241274857181896, Demand Coefficient = 5.2688305945625125e-05\n",
      "War in Ukraine Era in Spain\n",
      "Low thresh LNG coefficient = 0.15116118446938928, Coal Coefficient = 0.027383726225790894, Demand Coefficient = 7.823311476709213e-05\n",
      "Med thresh LNG coefficient = 0.16524964643106407, Coal Coefficient = 0.029702191322380455, Demand Coefficient = 6.43680415261666e-05\n"
     ]
    }
   ],
   "source": [
    "timeperiod_differences(\"./Data/Spain/combined_data.csv\", \"Spain\")"
   ]
  },
  {
   "cell_type": "code",
   "execution_count": 6,
   "metadata": {},
   "outputs": [
    {
     "name": "stdout",
     "output_type": "stream",
     "text": [
      "Pre-COVID in Netherlands\n",
      "Low thresh LNG coefficient = 0.4629615292114902, Coal Coefficient = 0.10974110434430268, Demand Coefficient = 8.735326546827071e-05\n",
      "Med thresh LNG coefficient = 0.455233345054619, Coal Coefficient = 0.13420897349075644, Demand Coefficient = 7.865397987416589e-05\n",
      "COVID Era in Netherlands\n",
      "Low thresh LNG coefficient = 1.7498582219427044, Coal Coefficient = 0.2526381581427471, Demand Coefficient = 0.00015502375732029394\n",
      "Med thresh LNG coefficient = 1.712391706016884, Coal Coefficient = 0.32361701541253485, Demand Coefficient = 0.00013915941078768146\n",
      "War in Ukraine Era in Netherlands\n",
      "Low thresh LNG coefficient = 0.6073139018862164, Coal Coefficient = 0.11697015334935729, Demand Coefficient = 0.0003591021555504753\n",
      "Med thresh LNG coefficient = 0.5159735682554603, Coal Coefficient = 0.1336356058124748, Demand Coefficient = 0.0002702813415114136\n"
     ]
    }
   ],
   "source": [
    "timeperiod_differences(\"./Data/Netherlands/combined_data.csv\", \"Netherlands\")"
   ]
  },
  {
   "cell_type": "code",
   "execution_count": 7,
   "metadata": {},
   "outputs": [
    {
     "name": "stdout",
     "output_type": "stream",
     "text": [
      "Pre-COVID in Germany\n",
      "Low thresh LNG coefficient = 0.7531126366502925, Coal Coefficient = -0.06006145847715832, Demand Coefficient = 1.9456916323858098e-05\n",
      "Med thresh LNG coefficient = 0.7075531310662562, Coal Coefficient = -0.06800574106344158, Demand Coefficient = 1.831611373401265e-05\n",
      "COVID Era in Germany\n",
      "Low thresh LNG coefficient = 1.6559899445914863, Coal Coefficient = -0.006968466408201935, Demand Coefficient = 2.589488472967607e-05\n",
      "Med thresh LNG coefficient = 1.5771802187103297, Coal Coefficient = 0.04879473470598535, Demand Coefficient = 2.5227583800011e-05\n",
      "War in Ukraine Era in Germany\n",
      "Low thresh LNG coefficient = 0.9633830024895748, Coal Coefficient = 0.1310632732764151, Demand Coefficient = 5.553805726274397e-05\n",
      "Med thresh LNG coefficient = 0.9167253526048825, Coal Coefficient = 0.15991580045736586, Demand Coefficient = 5.118115219041042e-05\n"
     ]
    }
   ],
   "source": [
    "timeperiod_differences(\"./Data/Germany/combined_data.csv\", \"Germany\", log_adj=25)"
   ]
  },
  {
   "cell_type": "code",
   "execution_count": 8,
   "metadata": {},
   "outputs": [
    {
     "name": "stdout",
     "output_type": "stream",
     "text": [
      "Pre-COVID in France\n",
      "Low thresh LNG coefficient = 0.5487140259765162, Coal Coefficient = 0.18177118164301567, Demand Coefficient = 2.8097283434197484e-05\n",
      "Med thresh LNG coefficient = 0.5667245063853805, Coal Coefficient = 0.22322692583502388, Demand Coefficient = 2.6874740560983712e-05\n",
      "COVID Era in France\n",
      "Low thresh LNG coefficient = 1.4828437915650174, Coal Coefficient = 0.8970037761389087, Demand Coefficient = 2.622826058018557e-05\n",
      "Med thresh LNG coefficient = 1.411932493657374, Coal Coefficient = 1.1456352065189146, Demand Coefficient = 2.4225400100164052e-05\n",
      "War in Ukraine Era in France\n",
      "Low thresh LNG coefficient = 0.6949480514218042, Coal Coefficient = 0.10164385772143439, Demand Coefficient = 4.166870366979769e-05\n",
      "Med thresh LNG coefficient = 0.6955890922851112, Coal Coefficient = 0.12008529928264351, Demand Coefficient = 3.5860851091848445e-05\n"
     ]
    }
   ],
   "source": [
    "timeperiod_differences(\"./Data/France/combined_data.csv\", \"France\", log_adj=26)"
   ]
  },
  {
   "cell_type": "code",
   "execution_count": 9,
   "metadata": {},
   "outputs": [
    {
     "name": "stdout",
     "output_type": "stream",
     "text": [
      "Pre-COVID in Austria\n",
      "Low thresh LNG coefficient = 0.25525286030850086, Coal Coefficient = 0.04572806444104268, Demand Coefficient = -8.662411717583196e-07\n",
      "Med thresh LNG coefficient = 0.24884337145007415, Coal Coefficient = 0.0660603272828229, Demand Coefficient = -1.1020175089831996e-06\n",
      "COVID Era in Austria\n",
      "Low thresh LNG coefficient = 1.333699386342992, Coal Coefficient = 0.46744853117351887, Demand Coefficient = 0.00027472854199234176\n",
      "Med thresh LNG coefficient = 1.193142304974083, Coal Coefficient = 0.5991790955953099, Demand Coefficient = 0.00024759398735241245\n",
      "War in Ukraine Era in Austria\n",
      "Low thresh LNG coefficient = 1.0423853035392345, Coal Coefficient = 0.10184811656238615, Demand Coefficient = 0.0005148987952815764\n",
      "Med thresh LNG coefficient = 0.9780851810673976, Coal Coefficient = 0.1246997418446105, Demand Coefficient = 0.00039703437611784964\n"
     ]
    }
   ],
   "source": [
    "timeperiod_differences(\"./Data/Austria/combined_data.csv\", \"Austria\")"
   ]
  }
 ],
 "metadata": {
  "kernelspec": {
   "display_name": "thesis",
   "language": "python",
   "name": "python3"
  },
  "language_info": {
   "codemirror_mode": {
    "name": "ipython",
    "version": 3
   },
   "file_extension": ".py",
   "mimetype": "text/x-python",
   "name": "python",
   "nbconvert_exporter": "python",
   "pygments_lexer": "ipython3",
   "version": "3.10.8"
  },
  "orig_nbformat": 4,
  "vscode": {
   "interpreter": {
    "hash": "06fe89a5f4e9a3ac2ecb86ca59945e3632fbd62854f53839f6675029cf8e446f"
   }
  }
 },
 "nbformat": 4,
 "nbformat_minor": 2
}
