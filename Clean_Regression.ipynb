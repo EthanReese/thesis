{
 "cells": [
  {
   "cell_type": "code",
   "execution_count": 22,
   "metadata": {},
   "outputs": [],
   "source": [
    "import pandas as pd\n",
    "import numpy as np\n",
    "import emd\n",
    "import pylab as plt\n",
    "import statsmodels.api as sm\n",
    "import plotly.express as px\n",
    "import os\n",
    "from sklearn import linear_model\n",
    "np.random.seed(10)"
   ]
  },
  {
   "cell_type": "code",
   "execution_count": 23,
   "metadata": {},
   "outputs": [],
   "source": [
    "def filter_and_regress(combined_data, country, \n",
    "        low_pass_percent=0.2, med_pass_percent=0.10, high_pass_percent=0.710):\n",
    "        \n",
    "        combined_data = combined_data[[\"Last Price\", \"Price\", \"Actual\"]]\n",
    "        combined_data = combined_data.dropna(axis=0)\n",
    "        elec_price = combined_data[\"Price\"].to_numpy()\n",
    "        lng_price = combined_data[\"Last Price\"].to_numpy()\n",
    "        demand = combined_data[\"Actual\"].to_numpy()\n",
    "        # plot and transform all of the data for electricity pricing\n",
    "        #plt.figure()\n",
    "        #plt.plot(elec_price, \"k\")\n",
    "\n",
    "        imf, noise = emd.sift.complete_ensemble_sift(elec_price, ensemble_noise=1)\n",
    "        # create the pass thresholds based on the input percentages\n",
    "        low_pass_thresh_elec = int(np.ceil(low_pass_percent * imf.shape[1]))\n",
    "        med_pass_thresh_elec = int(np.ceil(med_pass_percent * imf.shape[1]))\n",
    "        high_pass_thresh_elec = int(np.ceil(high_pass_percent * imf.shape[1]))\n",
    "        #emd.plotting.plot_imfs(imf)\n",
    "\n",
    "        IP, IF, IA = emd.spectra.frequency_transform(imf, 2106, \"hilbert\")\n",
    "        # plot and transform all of the data for LNG prices\n",
    "        #plt.figure()\n",
    "        #plt.plot(lng_price, \"k\")\n",
    "\n",
    "        lng_imf, lng_noise = emd.sift.complete_ensemble_sift(lng_price, ensemble_noise=1)\n",
    "        low_pass_thresh_lng = int(np.ceil(low_pass_percent * lng_imf.shape[1]))\n",
    "        med_pass_thresh_lng = int(np.ceil(med_pass_percent * lng_imf.shape[1]))\n",
    "        high_pass_thresh_lng = int(np.ceil(high_pass_percent * lng_imf.shape[1]))\n",
    "\n",
    "        #emd.plotting.plot_imfs(lng_imf)\n",
    "\n",
    "        IP, IF, IA = emd.spectra.frequency_transform(imf, 2106, \"hilbert\")\n",
    "\n",
    "        demand_imf, demand_noise = emd.sift.complete_ensemble_sift(demand, ensemble_noise=1)\n",
    "        low_pass_thresh_demand = int(np.ceil(low_pass_percent * demand_imf.shape[1]))\n",
    "        med_pass_thresh_demand = int(np.ceil(med_pass_percent * demand_imf.shape[1]))\n",
    "        high_pass_thresh_demand = int(np.ceil(high_pass_percent * demand_imf.shape[1]))\n",
    "        \n",
    "        low_pass_elec = imf[:, low_pass_thresh_elec:]\n",
    "        low_pass_means_elec = np.apply_along_axis(np.mean, 1, low_pass_elec)\n",
    "\n",
    "        low_pass_lng = lng_imf[:, low_pass_thresh_lng:]\n",
    "        low_pass_means_lng = np.apply_along_axis(np.mean, 1, low_pass_lng)\n",
    "\n",
    "        low_pass_demand = demand_imf[:, low_pass_thresh_demand:]\n",
    "        low_pass_means_demand = np.apply_along_axis(np.mean, 1, low_pass_demand)\n",
    "\n",
    "        #px.scatter(x=low_pass_means_elec, y=low_pass_means_lng)\n",
    "\n",
    "\n",
    "        med_pass_elec = imf[:, med_pass_thresh_elec:]\n",
    "        med_pass_means_elec = np.apply_along_axis(np.mean, 1, med_pass_elec)\n",
    "\n",
    "        med_pass_lng = lng_imf[:, med_pass_thresh_lng:]\n",
    "        med_pass_means_lng = np.apply_along_axis(np.mean, 1, med_pass_lng)\n",
    "\n",
    "        med_pass_demand = demand_imf[:, med_pass_thresh_demand:]\n",
    "        med_pass_means_demand = np.apply_along_axis(np.mean, 1, med_pass_demand)\n",
    "\n",
    "        #px.scatter(x=med_pass_means_elec, y=med_pass_means_lng)\n",
    "        \n",
    "        high_pass_elec = imf[:, high_pass_thresh_elec:]\n",
    "        high_pass_means_elec = np.apply_along_axis(np.mean, 1, high_pass_elec)\n",
    "\n",
    "        high_pass_lng = lng_imf[:, high_pass_thresh_lng:]\n",
    "        high_pass_means_lng = np.apply_along_axis(np.mean, 1, high_pass_lng)\n",
    "\n",
    "        high_pass_demand = lng_imf[:, high_pass_thresh_demand:]\n",
    "        high_pass_means_demand = np.apply_along_axis(np.mean, 1, high_pass_demand)\n",
    "        \n",
    "        #px.scatter(x=high_pass_means_elec, y=high_pass_means_lng)\n",
    "        X_low = pd.DataFrame({\"LNG\": low_pass_means_lng, \"Demand\": low_pass_means_demand})\n",
    "        X_low_log = X_low.copy()\n",
    "        X_low_log[\"LNG\"] = X_low_log[\"LNG\"].apply(lambda x: np.log(x+10))\n",
    "        low_model = linear_model.LinearRegression().fit(X_low_log, np.log(low_pass_means_elec+10))\n",
    "        print(\"Low pass LNG coefficient = {}, Demand Coefficient = {}\".format(low_model.coef_[0], low_model.coef_[1]))\n",
    "\n",
    "        X_med = pd.DataFrame({\"LNG\": med_pass_means_lng, \"Demand\": med_pass_means_demand})\n",
    "        X_med_log = X_med.copy()\n",
    "        X_med_log[\"LNG\"] = X_med_log[\"LNG\"].apply(lambda x: np.log(x+10))\n",
    "        med_model = linear_model.LinearRegression().fit(X_med_log, np.log(med_pass_means_elec + 10))\n",
    "        print(\"Med Pass LNG coefficient = {}, Demand Coefficient = {}\".format(med_model.coef_[0], med_model.coef_[1]))\n",
    "\n",
    "        X_high = pd.DataFrame({\"LNG\": high_pass_means_lng, \"Demand\": high_pass_means_demand})\n",
    "        X_high_log = X_high.copy()\n",
    "        X_high_log[\"LNG\"] = X_high_log[\"LNG\"].apply(lambda x: np.log(x + 10))\n",
    "        high_model = linear_model.LinearRegression().fit(X_high_log, np.log(high_pass_means_elec + 10))\n",
    "        print(\"High Pass LNG coefficient = {},  Demand Coefficent = {}\".format(high_model.coef_[0], high_model.coef_[1]))"
   ]
  },
  {
   "cell_type": "code",
   "execution_count": 24,
   "metadata": {},
   "outputs": [],
   "source": [
    "filter_and_regress(pd.read_csv(\"./Data/Spain/combined_data.csv\"), \"Spain\")\n",
    "#data = pd.read_csv(\"./Data/Germany/combined.csv\")\n",
    "#filter_and_regress(data, \"Germany\")"
   ]
  },
  {
   "cell_type": "code",
   "execution_count": null,
   "metadata": {},
   "outputs": [],
   "source": [
    "# run regressions based on the timescales of COVID and war in Ukraine\n",
    "def timeperiod_differences(combined_data_path, country_name):\n",
    "        # these serve as best guesses, change at will\n",
    "        COVID_START = \"2020-03-01\"\n",
    "        WAR_START = \"2022-02-01\"\n",
    "\n",
    "        # read in the data from the combined dataset\n",
    "        data = pd.read_csv(combined_data_path)\n",
    "        data[\"Date\"] = pd.to_datetime(data[\"Date\"])\n",
    "        pre_covid = data[data[\"Date\"] < COVID_START]\n",
    "\n",
    "        covid = data[data[\"Date\"] > COVID_START]\n",
    "        covid = covid[covid[\"Date\"] < WAR_START]\n",
    "\n",
    "        war = data[data[\"Date\"] > WAR_START]\n",
    "\n",
    "        # run the regressions on the given datasets\n",
    "        print(\"Pre-COVID in {}\".format(country_name))\n",
    "        filter_and_regress(pre_covid, country_name)\n",
    "\n",
    "        print(\"COVID Era in {}\".format(country_name))\n",
    "        filter_and_regress(covid, country_name)\n",
    "\n",
    "        print(\"War in Ukraine Era in {}\".format(country_name))\n",
    "        filter_and_regress(war, country_name)\n",
    "\n",
    "\n",
    "\n"
   ]
  },
  {
   "cell_type": "code",
   "execution_count": null,
   "metadata": {},
   "outputs": [
    {
     "name": "stdout",
     "output_type": "stream",
     "text": [
      "Pre-COVID in Spain\n",
      "-0.32603289453443884\n",
      "Low pass LNG coefficient = 1.0319031990824687, Demand Coefficient = 8.690465159172018e-05\n",
      "Med Pass coefficient = 1.0469176065927601, Demand Coefficient = 9.075128426504408e-05\n",
      "High Pass coefficient = 1.2152761477909917,  Demand Coefficent = 0.007298513199092428\n",
      "COVID Era in Spain\n",
      "-2.66313190025998\n",
      "Low pass LNG coefficient = 1.2951645571088886, Demand Coefficient = 0.00012123330733717384\n",
      "Med Pass coefficient = 1.3321501372039843, Demand Coefficient = 0.00012914369906182218\n",
      "High Pass coefficient = 1.0965186919736924,  Demand Coefficent = -0.0007164084913344563\n",
      "War in Ukraine Era in Spain\n",
      "-2.110248933226536\n",
      "Low pass LNG coefficient = 0.10754304500844278, Demand Coefficient = 0.00010618272802506587\n",
      "Med Pass coefficient = 0.10494448163326427, Demand Coefficient = 0.00012109998997265993\n",
      "High Pass coefficient = 0.5426439875354441,  Demand Coefficent = -0.013317110337761048\n"
     ]
    }
   ],
   "source": [
    "timeperiod_differences(\"./Data/Spain/combined_data.csv\", \"Spain\")"
   ]
  },
  {
   "cell_type": "code",
   "execution_count": null,
   "metadata": {},
   "outputs": [],
   "source": [
    "timeperiod_differences(\"./Data/Netherlands/combined_data.csv\", \"Netherlands\")"
   ]
  }
 ],
 "metadata": {
  "kernelspec": {
   "display_name": "thesis",
   "language": "python",
   "name": "python3"
  },
  "language_info": {
   "codemirror_mode": {
    "name": "ipython",
    "version": 3
   },
   "file_extension": ".py",
   "mimetype": "text/x-python",
   "name": "python",
   "nbconvert_exporter": "python",
   "pygments_lexer": "ipython3",
   "version": "3.10.8"
  },
  "orig_nbformat": 4,
  "vscode": {
   "interpreter": {
    "hash": "06fe89a5f4e9a3ac2ecb86ca59945e3632fbd62854f53839f6675029cf8e446f"
   }
  }
 },
 "nbformat": 4,
 "nbformat_minor": 2
}
