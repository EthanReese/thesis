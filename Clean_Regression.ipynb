{
 "cells": [
  {
   "cell_type": "code",
   "execution_count": 28,
   "metadata": {},
   "outputs": [],
   "source": [
    "import pandas as pd\n",
    "import numpy as np\n",
    "import emd\n",
    "import pylab as plt\n",
    "import statsmodels.api as sm\n",
    "import plotly.express as px\n",
    "import os\n",
    "from sklearn import linear_model\n",
    "np.random.seed(15)"
   ]
  },
  {
   "cell_type": "code",
   "execution_count": 29,
   "metadata": {},
   "outputs": [],
   "source": [
    "def filter_and_regress(combined_data, country, \n",
    "        low_pass_percent=0.2, med_pass_percent=0.15, high_pass_percent=0.7):\n",
    "        \n",
    "        combined_data = combined_data[[\"Last Price\", \"Price\", \"Actual\"]]\n",
    "        combined_data = combined_data.dropna(axis=0)\n",
    "        elec_price = combined_data[\"Price\"].to_numpy()\n",
    "        lng_price = combined_data[\"Last Price\"].to_numpy()\n",
    "        demand = combined_data[\"Actual\"].to_numpy()\n",
    "        # plot and transform all of the data for electricity pricing\n",
    "        #plt.figure()\n",
    "        #plt.plot(elec_price, \"k\")\n",
    "\n",
    "        imf, noise = emd.sift.complete_ensemble_sift(elec_price, ensemble_noise=1)\n",
    "        # create the pass thresholds based on the input percentages\n",
    "        low_pass_thresh_elec = int(np.ceil(low_pass_percent * imf.shape[1]))\n",
    "        med_pass_thresh_elec = int(np.ceil(med_pass_percent * imf.shape[1]))\n",
    "        high_pass_thresh_elec = int(np.ceil(high_pass_percent * imf.shape[1]))\n",
    "        #emd.plotting.plot_imfs(imf)\n",
    "\n",
    "        IP, IF, IA = emd.spectra.frequency_transform(imf, 2156, \"hilbert\")\n",
    "        # plot and transform all of the data for LNG prices\n",
    "        #plt.figure()\n",
    "        #plt.plot(lng_price, \"k\")\n",
    "\n",
    "        lng_imf, lng_noise = emd.sift.complete_ensemble_sift(lng_price, ensemble_noise=1)\n",
    "        low_pass_thresh_lng = int(np.ceil(low_pass_percent * lng_imf.shape[1]))\n",
    "        med_pass_thresh_lng = int(np.ceil(med_pass_percent * lng_imf.shape[1]))\n",
    "        high_pass_thresh_lng = int(np.ceil(high_pass_percent * lng_imf.shape[1]))\n",
    "\n",
    "        #emd.plotting.plot_imfs(lng_imf)\n",
    "\n",
    "        IP, IF, IA = emd.spectra.frequency_transform(imf, 2156, \"hilbert\")\n",
    "\n",
    "        demand_imf, demand_noise = emd.sift.complete_ensemble_sift(demand, ensemble_noise=1)\n",
    "        low_pass_thresh_demand = int(np.ceil(low_pass_percent * demand_imf.shape[1]))\n",
    "        med_pass_thresh_demand = int(np.ceil(med_pass_percent * demand_imf.shape[1]))\n",
    "        high_pass_thresh_demand = int(np.ceil(high_pass_percent * demand_imf.shape[1]))\n",
    "        \n",
    "        low_pass_elec = imf[:, low_pass_thresh_elec:]\n",
    "        low_pass_means_elec = np.apply_along_axis(np.mean, 1, low_pass_elec)\n",
    "\n",
    "        low_pass_lng = lng_imf[:, low_pass_thresh_lng:]\n",
    "        low_pass_means_lng = np.apply_along_axis(np.mean, 1, low_pass_lng)\n",
    "\n",
    "        low_pass_demand = demand_imf[:, low_pass_thresh_demand:]\n",
    "        low_pass_means_demand = np.apply_along_axis(np.mean, 1, low_pass_demand)\n",
    "\n",
    "        #px.scatter(x=low_pass_means_elec, y=low_pass_means_lng)\n",
    "\n",
    "\n",
    "        med_pass_elec = imf[:, med_pass_thresh_elec:]\n",
    "        med_pass_means_elec = np.apply_along_axis(np.mean, 1, med_pass_elec)\n",
    "\n",
    "        med_pass_lng = lng_imf[:, med_pass_thresh_lng:]\n",
    "        med_pass_means_lng = np.apply_along_axis(np.mean, 1, med_pass_lng)\n",
    "\n",
    "        med_pass_demand = demand_imf[:, med_pass_thresh_demand:]\n",
    "        med_pass_means_demand = np.apply_along_axis(np.mean, 1, med_pass_demand)\n",
    "\n",
    "        #px.scatter(x=med_pass_means_elec, y=med_pass_means_lng)\n",
    "        \n",
    "        high_pass_elec = imf[:, high_pass_thresh_elec:]\n",
    "        high_pass_means_elec = np.apply_along_axis(np.mean, 1, high_pass_elec)\n",
    "\n",
    "        high_pass_lng = lng_imf[:, high_pass_thresh_lng:]\n",
    "        high_pass_means_lng = np.apply_along_axis(np.mean, 1, high_pass_lng)\n",
    "\n",
    "        high_pass_demand = lng_imf[:, high_pass_thresh_demand:]\n",
    "        high_pass_means_demand = np.apply_along_axis(np.mean, 1, high_pass_demand)\n",
    "        \n",
    "        #px.scatter(x=high_pass_means_elec, y=high_pass_means_lng)\n",
    "        X_low = pd.DataFrame({\"LNG\": low_pass_means_lng, \"Demand\": low_pass_means_demand})\n",
    "        X_low_log = X_low.copy()\n",
    "        X_low_log[\"LNG\"] = X_low_log[\"LNG\"].apply(lambda x: np.log(x+15))\n",
    "        low_model = linear_model.LinearRegression().fit(X_low_log, np.log(low_pass_means_elec+15))\n",
    "        print(\"Low pass LNG coefficient = {}, Demand Coefficient = {}\".format(low_model.coef_[0], low_model.coef_[1]))\n",
    "\n",
    "        X_med = pd.DataFrame({\"LNG\": med_pass_means_lng, \"Demand\": med_pass_means_demand})\n",
    "        X_med_log = X_med.copy()\n",
    "        X_med_log[\"LNG\"] = X_med_log[\"LNG\"].apply(lambda x: np.log(x+15))\n",
    "        med_model = linear_model.LinearRegression().fit(X_med_log, np.log(med_pass_means_elec + 15))\n",
    "        print(\"Med Pass LNG coefficient = {}, Demand Coefficient = {}\".format(med_model.coef_[0], med_model.coef_[1]))\n",
    "\n",
    "        X_high = pd.DataFrame({\"LNG\": high_pass_means_lng, \"Demand\": high_pass_means_demand})\n",
    "        X_high_log = X_high.copy()\n",
    "        X_high_log[\"LNG\"] = X_high_log[\"LNG\"].apply(lambda x: np.log(x + 15))\n",
    "        high_model = linear_model.LinearRegression().fit(X_high_log, np.log(high_pass_means_elec + 15))\n",
    "        print(\"High Pass LNG coefficient = {},  Demand Coefficent = {}\".format(high_model.coef_[0], high_model.coef_[1]))"
   ]
  },
  {
   "cell_type": "code",
   "execution_count": 30,
   "metadata": {},
   "outputs": [
    {
     "name": "stdout",
     "output_type": "stream",
     "text": [
      "Low pass LNG coefficient = 1.1178447131860858, Demand Coefficient = 6.052536255861113e-05\n",
      "Med Pass LNG coefficient = 1.128345509378336, Demand Coefficient = 6.204091786626618e-05\n",
      "High Pass LNG coefficient = 0.4502502087443484,  Demand Coefficent = 0.02487579046613835\n"
     ]
    }
   ],
   "source": [
    "#filter_and_regress(pd.read_csv(\"./Data/Spain/combined_data.csv\"), \"Spain\")\n",
    "#data = pd.read_csv(\"./Data/Germany/combined.csv\")\n",
    "#filter_and_regress(data, \"Germany\")"
   ]
  },
  {
   "cell_type": "code",
   "execution_count": 31,
   "metadata": {},
   "outputs": [],
   "source": [
    "# run regressions based on the timescales of COVID and war in Ukraine\n",
    "def timeperiod_differences(combined_data_path, country_name):\n",
    "        # these serve as best guesses, change at will\n",
    "        COVID_START = \"2020-03-01\"\n",
    "        WAR_START = \"2022-02-01\"\n",
    "\n",
    "        # read in the data from the combined dataset\n",
    "        data = pd.read_csv(combined_data_path)\n",
    "        data[\"Date\"] = pd.to_datetime(data[\"Date\"])\n",
    "        pre_covid = data[data[\"Date\"] < COVID_START]\n",
    "\n",
    "        covid = data[data[\"Date\"] > COVID_START]\n",
    "        covid = covid[covid[\"Date\"] < WAR_START]\n",
    "\n",
    "        war = data[data[\"Date\"] > WAR_START]\n",
    "\n",
    "        # run the regressions on the given datasets\n",
    "        print(\"Pre-COVID in {}\".format(country_name))\n",
    "        filter_and_regress(pre_covid, country_name)\n",
    "\n",
    "        print(\"COVID Era in {}\".format(country_name))\n",
    "        filter_and_regress(covid, country_name)\n",
    "\n",
    "        print(\"War in Ukraine Era in {}\".format(country_name))\n",
    "        filter_and_regress(war, country_name)\n",
    "\n",
    "\n",
    "\n"
   ]
  },
  {
   "cell_type": "code",
   "execution_count": 32,
   "metadata": {},
   "outputs": [
    {
     "name": "stdout",
     "output_type": "stream",
     "text": [
      "Pre-COVID in Spain\n",
      "Low pass LNG coefficient = 1.072856147305029, Demand Coefficient = 6.888912625139737e-05\n",
      "Med Pass LNG coefficient = 1.0823580557423544, Demand Coefficient = 6.99303265743385e-05\n",
      "High Pass LNG coefficient = 0.1468254175530575,  Demand Coefficent = 0.05433847569687829\n",
      "COVID Era in Spain\n",
      "Low pass LNG coefficient = 1.396095585112108, Demand Coefficient = 9.507636079252136e-05\n",
      "Med Pass LNG coefficient = 1.4091627720153255, Demand Coefficient = 9.768732214516367e-05\n",
      "High Pass LNG coefficient = 1.1377766622230212,  Demand Coefficent = 0.007313775059757302\n",
      "War in Ukraine Era in Spain\n",
      "Low pass LNG coefficient = 0.09519674591617001, Demand Coefficient = 9.426972987011496e-05\n",
      "Med Pass LNG coefficient = 0.09517290795599745, Demand Coefficient = 9.744991606003545e-05\n",
      "High Pass LNG coefficient = 0.6748042528369192,  Demand Coefficent = -0.013319016047713648\n"
     ]
    }
   ],
   "source": [
    "timeperiod_differences(\"./Data/Spain/combined_data.csv\", \"Spain\")"
   ]
  },
  {
   "cell_type": "code",
   "execution_count": 33,
   "metadata": {},
   "outputs": [
    {
     "name": "stdout",
     "output_type": "stream",
     "text": [
      "Pre-COVID in Netherlands\n",
      "Low pass LNG coefficient = 1.015315624687126, Demand Coefficient = 0.0001640938432368137\n",
      "Med Pass LNG coefficient = 1.016005998533483, Demand Coefficient = 0.00016666162263245495\n",
      "High Pass LNG coefficient = -2.6521460592283264,  Demand Coefficent = 0.21388872283319127\n",
      "COVID Era in Netherlands\n",
      "Low pass LNG coefficient = 1.2711374764595895, Demand Coefficient = 0.00034245955501468816\n",
      "Med Pass LNG coefficient = 1.288180860161182, Demand Coefficient = 0.0003520302476625618\n",
      "High Pass LNG coefficient = 0.3353049168276824,  Demand Coefficent = 0.03869696131128682\n",
      "War in Ukraine Era in Netherlands\n",
      "Low pass LNG coefficient = 0.8437318494473445, Demand Coefficient = 0.0006734989285205384\n",
      "Med Pass LNG coefficient = 0.8728888399304444, Demand Coefficient = 0.0007178328663873201\n",
      "High Pass LNG coefficient = 0.06918052017137856,  Demand Coefficent = 0.022073395616934655\n"
     ]
    }
   ],
   "source": [
    "timeperiod_differences(\"./Data/Netherlands/combined_data.csv\", \"Netherlands\")"
   ]
  }
 ],
 "metadata": {
  "kernelspec": {
   "display_name": "thesis",
   "language": "python",
   "name": "python3"
  },
  "language_info": {
   "codemirror_mode": {
    "name": "ipython",
    "version": 3
   },
   "file_extension": ".py",
   "mimetype": "text/x-python",
   "name": "python",
   "nbconvert_exporter": "python",
   "pygments_lexer": "ipython3",
   "version": "3.10.8"
  },
  "orig_nbformat": 4,
  "vscode": {
   "interpreter": {
    "hash": "06fe89a5f4e9a3ac2ecb86ca59945e3632fbd62854f53839f6675029cf8e446f"
   }
  }
 },
 "nbformat": 4,
 "nbformat_minor": 2
}
