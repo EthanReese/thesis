{
 "cells": [
  {
   "cell_type": "code",
   "execution_count": 15,
   "metadata": {},
   "outputs": [],
   "source": [
    "import pandas as pd\n",
    "import numpy as np\n",
    "import emd\n",
    "import pylab as plt\n",
    "import statsmodels.api as sm\n",
    "import plotly.express as px\n",
    "import os\n",
    "from sklearn import linear_model\n",
    "np.random.seed(15)"
   ]
  },
  {
   "cell_type": "code",
   "execution_count": 16,
   "metadata": {},
   "outputs": [],
   "source": [
    "def filter_and_regress(combined_data, country, \n",
    "        low_pass_percent=0.2, med_pass_percent=0.5, high_pass_percent=0.7):\n",
    "        \n",
    "        combined_data = combined_data[[\"Last Price\", \"Price\", \"Actual\"]]\n",
    "        combined_data = combined_data.dropna(axis=0)\n",
    "        elec_price = combined_data[\"Price\"].to_numpy()\n",
    "        lng_price = combined_data[\"Last Price\"].to_numpy()\n",
    "        demand = combined_data[\"Actual\"].to_numpy()\n",
    "        # plot and transform all of the data for electricity pricing\n",
    "        #plt.figure()\n",
    "        #plt.plot(elec_price, \"k\")\n",
    "\n",
    "        imf, noise = emd.sift.complete_ensemble_sift(elec_price, ensemble_noise=1)\n",
    "        # create the pass thresholds based on the input percentages\n",
    "        low_pass_thresh_elec = int(np.ceil(low_pass_percent * imf.shape[1]))\n",
    "        med_pass_thresh_elec = int(np.ceil(med_pass_percent * imf.shape[1]))\n",
    "        high_pass_thresh_elec = int(np.ceil(high_pass_percent * imf.shape[1]))\n",
    "        #emd.plotting.plot_imfs(imf)\n",
    "\n",
    "        IP, IF, IA = emd.spectra.frequency_transform(imf, 2156, \"hilbert\")\n",
    "        # plot and transform all of the data for LNG prices\n",
    "        #plt.figure()\n",
    "        #plt.plot(lng_price, \"k\")\n",
    "\n",
    "        lng_imf, lng_noise = emd.sift.complete_ensemble_sift(lng_price, ensemble_noise=1)\n",
    "        low_pass_thresh_lng = int(np.ceil(low_pass_percent * lng_imf.shape[1]))\n",
    "        med_pass_thresh_lng = int(np.ceil(med_pass_percent * lng_imf.shape[1]))\n",
    "        high_pass_thresh_lng = int(np.ceil(high_pass_percent * lng_imf.shape[1]))\n",
    "\n",
    "        #emd.plotting.plot_imfs(lng_imf)\n",
    "\n",
    "        IP, IF, IA = emd.spectra.frequency_transform(imf, 2156, \"hilbert\")\n",
    "\n",
    "        demand_imf, demand_noise = emd.sift.complete_ensemble_sift(demand, ensemble_noise=1)\n",
    "        low_pass_thresh_demand = int(np.ceil(low_pass_percent * demand_imf.shape[1]))\n",
    "        med_pass_thresh_demand = int(np.ceil(med_pass_percent * demand_imf.shape[1]))\n",
    "        high_pass_thresh_demand = int(np.ceil(high_pass_percent * demand_imf.shape[1]))\n",
    "        \n",
    "        low_pass_elec = imf[:, low_pass_thresh_elec:]\n",
    "        low_pass_means_elec = np.apply_along_axis(np.mean, 1, low_pass_elec)\n",
    "\n",
    "        low_pass_lng = lng_imf[:, low_pass_thresh_lng:]\n",
    "        low_pass_means_lng = np.apply_along_axis(np.mean, 1, low_pass_lng)\n",
    "\n",
    "        low_pass_demand = demand_imf[:, low_pass_thresh_demand:]\n",
    "        low_pass_means_demand = np.apply_along_axis(np.mean, 1, low_pass_demand)\n",
    "\n",
    "        #px.scatter(x=low_pass_means_elec, y=low_pass_means_lng)\n",
    "\n",
    "\n",
    "        med_pass_elec = imf[:, med_pass_thresh_elec:]\n",
    "        med_pass_means_elec = np.apply_along_axis(np.mean, 1, med_pass_elec)\n",
    "\n",
    "        med_pass_lng = lng_imf[:, med_pass_thresh_lng:]\n",
    "        med_pass_means_lng = np.apply_along_axis(np.mean, 1, med_pass_lng)\n",
    "\n",
    "        med_pass_demand = demand_imf[:, med_pass_thresh_demand:]\n",
    "        med_pass_means_demand = np.apply_along_axis(np.mean, 1, med_pass_demand)\n",
    "\n",
    "        #px.scatter(x=med_pass_means_elec, y=med_pass_means_lng)\n",
    "        \n",
    "        high_pass_elec = imf[:, high_pass_thresh_elec:]\n",
    "        high_pass_means_elec = np.apply_along_axis(np.mean, 1, high_pass_elec)\n",
    "\n",
    "        high_pass_lng = lng_imf[:, high_pass_thresh_lng:]\n",
    "        high_pass_means_lng = np.apply_along_axis(np.mean, 1, high_pass_lng)\n",
    "\n",
    "        high_pass_demand = lng_imf[:, high_pass_thresh_demand:]\n",
    "        high_pass_means_demand = np.apply_along_axis(np.mean, 1, high_pass_demand)\n",
    "        \n",
    "        #px.scatter(x=high_pass_means_elec, y=high_pass_means_lng)\n",
    "        X_low = pd.DataFrame({\"LNG\": low_pass_means_lng, \"Demand\": low_pass_means_demand})\n",
    "        X_low_log = X_low.copy()\n",
    "        X_low_log[\"LNG\"] = X_low_log[\"LNG\"].apply(lambda x: np.log(x+15))\n",
    "        low_model = linear_model.LinearRegression().fit(X_low_log, np.log(low_pass_means_elec+15))\n",
    "        print(\"Low thresh LNG coefficient = {}, Demand Coefficient = {}\".format(low_model.coef_[0], low_model.coef_[1]))\n",
    "\n",
    "        X_med = pd.DataFrame({\"LNG\": med_pass_means_lng, \"Demand\": med_pass_means_demand})\n",
    "        X_med_log = X_med.copy()\n",
    "        X_med_log[\"LNG\"] = X_med_log[\"LNG\"].apply(lambda x: np.log(x+15))\n",
    "        med_model = linear_model.LinearRegression().fit(X_med_log, np.log(med_pass_means_elec + 15))\n",
    "        print(\"Med thresh LNG coefficient = {}, Demand Coefficient = {}\".format(med_model.coef_[0], med_model.coef_[1]))\n",
    "\n",
    "        X_high = pd.DataFrame({\"LNG\": high_pass_means_lng, \"Demand\": high_pass_means_demand})\n",
    "        X_high_log = X_high.copy()\n",
    "        X_high_log[\"LNG\"] = X_high_log[\"LNG\"].apply(lambda x: np.log(x + 15))\n",
    "        high_model = linear_model.LinearRegression().fit(X_high_log, np.log(high_pass_means_elec + 15))\n",
    "        print(\"High thresh LNG coefficient = {},  Demand Coefficent = {}\".format(high_model.coef_[0], high_model.coef_[1]))"
   ]
  },
  {
   "cell_type": "code",
   "execution_count": 17,
   "metadata": {},
   "outputs": [],
   "source": [
    "#filter_and_regress(pd.read_csv(\"./Data/Spain/combined_data.csv\"), \"Spain\")\n",
    "#data = pd.read_csv(\"./Data/Germany/combined.csv\")\n",
    "#filter_and_regress(data, \"Germany\")"
   ]
  },
  {
   "cell_type": "code",
   "execution_count": 18,
   "metadata": {},
   "outputs": [],
   "source": [
    "# run regressions based on the timescales of COVID and war in Ukraine\n",
    "def timeperiod_differences(combined_data_path, country_name):\n",
    "        # these serve as best guesses, change at will\n",
    "        COVID_START = \"2020-03-01\"\n",
    "        WAR_START = \"2022-02-01\"\n",
    "\n",
    "        # read in the data from the combined dataset\n",
    "        data = pd.read_csv(combined_data_path)\n",
    "        data[\"Date\"] = pd.to_datetime(data[\"Date\"])\n",
    "        pre_covid = data[data[\"Date\"] < COVID_START]\n",
    "\n",
    "        covid = data[data[\"Date\"] > COVID_START]\n",
    "        covid = covid[covid[\"Date\"] < WAR_START]\n",
    "\n",
    "        war = data[data[\"Date\"] > WAR_START]\n",
    "\n",
    "        # run the regressions on the given datasets\n",
    "        print(\"Pre-COVID in {}\".format(country_name))\n",
    "        filter_and_regress(pre_covid, country_name)\n",
    "\n",
    "        print(\"COVID Era in {}\".format(country_name))\n",
    "        filter_and_regress(covid, country_name)\n",
    "\n",
    "        print(\"War in Ukraine Era in {}\".format(country_name))\n",
    "        filter_and_regress(war, country_name)\n",
    "\n",
    "\n",
    "\n"
   ]
  },
  {
   "cell_type": "code",
   "execution_count": 19,
   "metadata": {},
   "outputs": [
    {
     "name": "stdout",
     "output_type": "stream",
     "text": [
      "Pre-COVID in Spain\n",
      "Low thresh LNG coefficient = 1.0748126399950275, Demand Coefficient = 6.0957553232078786e-05\n",
      "Med thresh LNG coefficient = 1.023987501560938, Demand Coefficient = 5.610048545688719e-05\n",
      "High thresh LNG coefficient = 1.0561485318083226,  Demand Coefficent = 0.010819858228338416\n",
      "COVID Era in Spain\n",
      "Low thresh LNG coefficient = 1.4016396631146426, Demand Coefficient = 8.132981188537584e-05\n",
      "Med thresh LNG coefficient = 1.3033107510133919, Demand Coefficient = 6.738951420927332e-05\n",
      "High thresh LNG coefficient = 1.71424064407906,  Demand Coefficent = -0.016773216915330492\n",
      "War in Ukraine Era in Spain\n",
      "Low thresh LNG coefficient = 0.09700499272409663, Demand Coefficient = 9.12896916043369e-05\n",
      "Med thresh LNG coefficient = 0.10649282087041193, Demand Coefficient = 6.653890769033451e-05\n",
      "High thresh LNG coefficient = 2.4111618940075803,  Demand Coefficent = -0.06179772053533062\n"
     ]
    }
   ],
   "source": [
    "timeperiod_differences(\"./Data/Spain/combined_data.csv\", \"Spain\")"
   ]
  },
  {
   "cell_type": "code",
   "execution_count": 20,
   "metadata": {},
   "outputs": [
    {
     "name": "stdout",
     "output_type": "stream",
     "text": [
      "Pre-COVID in Netherlands\n",
      "Low thresh LNG coefficient = 1.0255695102534281, Demand Coefficient = 0.0001647797777752545\n",
      "Med thresh LNG coefficient = 0.9962958555299115, Demand Coefficient = 0.00014758067669396426\n",
      "High thresh LNG coefficient = -2.561320208617062,  Demand Coefficent = 0.209828782000703\n",
      "COVID Era in Netherlands\n",
      "Low thresh LNG coefficient = 1.2627204344073053, Demand Coefficient = 0.00034711816701089594\n",
      "Med thresh LNG coefficient = 1.176212829083994, Demand Coefficient = 0.0002808086732449813\n",
      "High thresh LNG coefficient = 1.2936800134815396,  Demand Coefficent = -0.002899322183743443\n",
      "War in Ukraine Era in Netherlands\n",
      "Low thresh LNG coefficient = 0.9169926217132679, Demand Coefficient = 0.0006600966897317567\n"
     ]
    },
    {
     "name": "stderr",
     "output_type": "stream",
     "text": [
      "/var/folders/0p/b0w9hfrj7t7btyk9h00r0ck40000gn/T/ipykernel_94755/156894538.py:81: RuntimeWarning: invalid value encountered in log\n",
      "  med_model = linear_model.LinearRegression().fit(X_med_log, np.log(med_pass_means_elec + 15))\n"
     ]
    },
    {
     "ename": "ValueError",
     "evalue": "Input y contains NaN.",
     "output_type": "error",
     "traceback": [
      "\u001b[0;31m---------------------------------------------------------------------------\u001b[0m",
      "\u001b[0;31mValueError\u001b[0m                                Traceback (most recent call last)",
      "Cell \u001b[0;32mIn[20], line 1\u001b[0m\n\u001b[0;32m----> 1\u001b[0m timeperiod_differences(\u001b[39m\"\u001b[39;49m\u001b[39m./Data/Netherlands/combined_data.csv\u001b[39;49m\u001b[39m\"\u001b[39;49m, \u001b[39m\"\u001b[39;49m\u001b[39mNetherlands\u001b[39;49m\u001b[39m\"\u001b[39;49m)\n",
      "Cell \u001b[0;32mIn[18], line 25\u001b[0m, in \u001b[0;36mtimeperiod_differences\u001b[0;34m(combined_data_path, country_name)\u001b[0m\n\u001b[1;32m     22\u001b[0m filter_and_regress(covid, country_name)\n\u001b[1;32m     24\u001b[0m \u001b[39mprint\u001b[39m(\u001b[39m\"\u001b[39m\u001b[39mWar in Ukraine Era in \u001b[39m\u001b[39m{}\u001b[39;00m\u001b[39m\"\u001b[39m\u001b[39m.\u001b[39mformat(country_name))\n\u001b[0;32m---> 25\u001b[0m filter_and_regress(war, country_name)\n",
      "Cell \u001b[0;32mIn[16], line 81\u001b[0m, in \u001b[0;36mfilter_and_regress\u001b[0;34m(combined_data, country, low_pass_percent, med_pass_percent, high_pass_percent)\u001b[0m\n\u001b[1;32m     79\u001b[0m X_med_log \u001b[39m=\u001b[39m X_med\u001b[39m.\u001b[39mcopy()\n\u001b[1;32m     80\u001b[0m X_med_log[\u001b[39m\"\u001b[39m\u001b[39mLNG\u001b[39m\u001b[39m\"\u001b[39m] \u001b[39m=\u001b[39m X_med_log[\u001b[39m\"\u001b[39m\u001b[39mLNG\u001b[39m\u001b[39m\"\u001b[39m]\u001b[39m.\u001b[39mapply(\u001b[39mlambda\u001b[39;00m x: np\u001b[39m.\u001b[39mlog(x\u001b[39m+\u001b[39m\u001b[39m15\u001b[39m))\n\u001b[0;32m---> 81\u001b[0m med_model \u001b[39m=\u001b[39m linear_model\u001b[39m.\u001b[39;49mLinearRegression()\u001b[39m.\u001b[39;49mfit(X_med_log, np\u001b[39m.\u001b[39;49mlog(med_pass_means_elec \u001b[39m+\u001b[39;49m \u001b[39m15\u001b[39;49m))\n\u001b[1;32m     82\u001b[0m \u001b[39mprint\u001b[39m(\u001b[39m\"\u001b[39m\u001b[39mMed thresh LNG coefficient = \u001b[39m\u001b[39m{}\u001b[39;00m\u001b[39m, Demand Coefficient = \u001b[39m\u001b[39m{}\u001b[39;00m\u001b[39m\"\u001b[39m\u001b[39m.\u001b[39mformat(med_model\u001b[39m.\u001b[39mcoef_[\u001b[39m0\u001b[39m], med_model\u001b[39m.\u001b[39mcoef_[\u001b[39m1\u001b[39m]))\n\u001b[1;32m     84\u001b[0m X_high \u001b[39m=\u001b[39m pd\u001b[39m.\u001b[39mDataFrame({\u001b[39m\"\u001b[39m\u001b[39mLNG\u001b[39m\u001b[39m\"\u001b[39m: high_pass_means_lng, \u001b[39m\"\u001b[39m\u001b[39mDemand\u001b[39m\u001b[39m\"\u001b[39m: high_pass_means_demand})\n",
      "File \u001b[0;32m~/anaconda3/envs/thesis/lib/python3.10/site-packages/sklearn/linear_model/_base.py:649\u001b[0m, in \u001b[0;36mLinearRegression.fit\u001b[0;34m(self, X, y, sample_weight)\u001b[0m\n\u001b[1;32m    645\u001b[0m n_jobs_ \u001b[39m=\u001b[39m \u001b[39mself\u001b[39m\u001b[39m.\u001b[39mn_jobs\n\u001b[1;32m    647\u001b[0m accept_sparse \u001b[39m=\u001b[39m \u001b[39mFalse\u001b[39;00m \u001b[39mif\u001b[39;00m \u001b[39mself\u001b[39m\u001b[39m.\u001b[39mpositive \u001b[39melse\u001b[39;00m [\u001b[39m\"\u001b[39m\u001b[39mcsr\u001b[39m\u001b[39m\"\u001b[39m, \u001b[39m\"\u001b[39m\u001b[39mcsc\u001b[39m\u001b[39m\"\u001b[39m, \u001b[39m\"\u001b[39m\u001b[39mcoo\u001b[39m\u001b[39m\"\u001b[39m]\n\u001b[0;32m--> 649\u001b[0m X, y \u001b[39m=\u001b[39m \u001b[39mself\u001b[39;49m\u001b[39m.\u001b[39;49m_validate_data(\n\u001b[1;32m    650\u001b[0m     X, y, accept_sparse\u001b[39m=\u001b[39;49maccept_sparse, y_numeric\u001b[39m=\u001b[39;49m\u001b[39mTrue\u001b[39;49;00m, multi_output\u001b[39m=\u001b[39;49m\u001b[39mTrue\u001b[39;49;00m\n\u001b[1;32m    651\u001b[0m )\n\u001b[1;32m    653\u001b[0m sample_weight \u001b[39m=\u001b[39m _check_sample_weight(\n\u001b[1;32m    654\u001b[0m     sample_weight, X, dtype\u001b[39m=\u001b[39mX\u001b[39m.\u001b[39mdtype, only_non_negative\u001b[39m=\u001b[39m\u001b[39mTrue\u001b[39;00m\n\u001b[1;32m    655\u001b[0m )\n\u001b[1;32m    657\u001b[0m X, y, X_offset, y_offset, X_scale \u001b[39m=\u001b[39m _preprocess_data(\n\u001b[1;32m    658\u001b[0m     X,\n\u001b[1;32m    659\u001b[0m     y,\n\u001b[0;32m   (...)\u001b[0m\n\u001b[1;32m    662\u001b[0m     sample_weight\u001b[39m=\u001b[39msample_weight,\n\u001b[1;32m    663\u001b[0m )\n",
      "File \u001b[0;32m~/anaconda3/envs/thesis/lib/python3.10/site-packages/sklearn/base.py:554\u001b[0m, in \u001b[0;36mBaseEstimator._validate_data\u001b[0;34m(self, X, y, reset, validate_separately, **check_params)\u001b[0m\n\u001b[1;32m    552\u001b[0m         y \u001b[39m=\u001b[39m check_array(y, input_name\u001b[39m=\u001b[39m\u001b[39m\"\u001b[39m\u001b[39my\u001b[39m\u001b[39m\"\u001b[39m, \u001b[39m*\u001b[39m\u001b[39m*\u001b[39mcheck_y_params)\n\u001b[1;32m    553\u001b[0m     \u001b[39melse\u001b[39;00m:\n\u001b[0;32m--> 554\u001b[0m         X, y \u001b[39m=\u001b[39m check_X_y(X, y, \u001b[39m*\u001b[39;49m\u001b[39m*\u001b[39;49mcheck_params)\n\u001b[1;32m    555\u001b[0m     out \u001b[39m=\u001b[39m X, y\n\u001b[1;32m    557\u001b[0m \u001b[39mif\u001b[39;00m \u001b[39mnot\u001b[39;00m no_val_X \u001b[39mand\u001b[39;00m check_params\u001b[39m.\u001b[39mget(\u001b[39m\"\u001b[39m\u001b[39mensure_2d\u001b[39m\u001b[39m\"\u001b[39m, \u001b[39mTrue\u001b[39;00m):\n",
      "File \u001b[0;32m~/anaconda3/envs/thesis/lib/python3.10/site-packages/sklearn/utils/validation.py:1120\u001b[0m, in \u001b[0;36mcheck_X_y\u001b[0;34m(X, y, accept_sparse, accept_large_sparse, dtype, order, copy, force_all_finite, ensure_2d, allow_nd, multi_output, ensure_min_samples, ensure_min_features, y_numeric, estimator)\u001b[0m\n\u001b[1;32m   1100\u001b[0m     \u001b[39mraise\u001b[39;00m \u001b[39mValueError\u001b[39;00m(\n\u001b[1;32m   1101\u001b[0m         \u001b[39mf\u001b[39m\u001b[39m\"\u001b[39m\u001b[39m{\u001b[39;00mestimator_name\u001b[39m}\u001b[39;00m\u001b[39m requires y to be passed, but the target y is None\u001b[39m\u001b[39m\"\u001b[39m\n\u001b[1;32m   1102\u001b[0m     )\n\u001b[1;32m   1104\u001b[0m X \u001b[39m=\u001b[39m check_array(\n\u001b[1;32m   1105\u001b[0m     X,\n\u001b[1;32m   1106\u001b[0m     accept_sparse\u001b[39m=\u001b[39maccept_sparse,\n\u001b[0;32m   (...)\u001b[0m\n\u001b[1;32m   1117\u001b[0m     input_name\u001b[39m=\u001b[39m\u001b[39m\"\u001b[39m\u001b[39mX\u001b[39m\u001b[39m\"\u001b[39m,\n\u001b[1;32m   1118\u001b[0m )\n\u001b[0;32m-> 1120\u001b[0m y \u001b[39m=\u001b[39m _check_y(y, multi_output\u001b[39m=\u001b[39;49mmulti_output, y_numeric\u001b[39m=\u001b[39;49my_numeric, estimator\u001b[39m=\u001b[39;49mestimator)\n\u001b[1;32m   1122\u001b[0m check_consistent_length(X, y)\n\u001b[1;32m   1124\u001b[0m \u001b[39mreturn\u001b[39;00m X, y\n",
      "File \u001b[0;32m~/anaconda3/envs/thesis/lib/python3.10/site-packages/sklearn/utils/validation.py:1130\u001b[0m, in \u001b[0;36m_check_y\u001b[0;34m(y, multi_output, y_numeric, estimator)\u001b[0m\n\u001b[1;32m   1128\u001b[0m \u001b[39m\"\"\"Isolated part of check_X_y dedicated to y validation\"\"\"\u001b[39;00m\n\u001b[1;32m   1129\u001b[0m \u001b[39mif\u001b[39;00m multi_output:\n\u001b[0;32m-> 1130\u001b[0m     y \u001b[39m=\u001b[39m check_array(\n\u001b[1;32m   1131\u001b[0m         y,\n\u001b[1;32m   1132\u001b[0m         accept_sparse\u001b[39m=\u001b[39;49m\u001b[39m\"\u001b[39;49m\u001b[39mcsr\u001b[39;49m\u001b[39m\"\u001b[39;49m,\n\u001b[1;32m   1133\u001b[0m         force_all_finite\u001b[39m=\u001b[39;49m\u001b[39mTrue\u001b[39;49;00m,\n\u001b[1;32m   1134\u001b[0m         ensure_2d\u001b[39m=\u001b[39;49m\u001b[39mFalse\u001b[39;49;00m,\n\u001b[1;32m   1135\u001b[0m         dtype\u001b[39m=\u001b[39;49m\u001b[39mNone\u001b[39;49;00m,\n\u001b[1;32m   1136\u001b[0m         input_name\u001b[39m=\u001b[39;49m\u001b[39m\"\u001b[39;49m\u001b[39my\u001b[39;49m\u001b[39m\"\u001b[39;49m,\n\u001b[1;32m   1137\u001b[0m         estimator\u001b[39m=\u001b[39;49mestimator,\n\u001b[1;32m   1138\u001b[0m     )\n\u001b[1;32m   1139\u001b[0m \u001b[39melse\u001b[39;00m:\n\u001b[1;32m   1140\u001b[0m     estimator_name \u001b[39m=\u001b[39m _check_estimator_name(estimator)\n",
      "File \u001b[0;32m~/anaconda3/envs/thesis/lib/python3.10/site-packages/sklearn/utils/validation.py:919\u001b[0m, in \u001b[0;36mcheck_array\u001b[0;34m(array, accept_sparse, accept_large_sparse, dtype, order, copy, force_all_finite, ensure_2d, allow_nd, ensure_min_samples, ensure_min_features, estimator, input_name)\u001b[0m\n\u001b[1;32m    913\u001b[0m         \u001b[39mraise\u001b[39;00m \u001b[39mValueError\u001b[39;00m(\n\u001b[1;32m    914\u001b[0m             \u001b[39m\"\u001b[39m\u001b[39mFound array with dim \u001b[39m\u001b[39m%d\u001b[39;00m\u001b[39m. \u001b[39m\u001b[39m%s\u001b[39;00m\u001b[39m expected <= 2.\u001b[39m\u001b[39m\"\u001b[39m\n\u001b[1;32m    915\u001b[0m             \u001b[39m%\u001b[39m (array\u001b[39m.\u001b[39mndim, estimator_name)\n\u001b[1;32m    916\u001b[0m         )\n\u001b[1;32m    918\u001b[0m     \u001b[39mif\u001b[39;00m force_all_finite:\n\u001b[0;32m--> 919\u001b[0m         _assert_all_finite(\n\u001b[1;32m    920\u001b[0m             array,\n\u001b[1;32m    921\u001b[0m             input_name\u001b[39m=\u001b[39;49minput_name,\n\u001b[1;32m    922\u001b[0m             estimator_name\u001b[39m=\u001b[39;49mestimator_name,\n\u001b[1;32m    923\u001b[0m             allow_nan\u001b[39m=\u001b[39;49mforce_all_finite \u001b[39m==\u001b[39;49m \u001b[39m\"\u001b[39;49m\u001b[39mallow-nan\u001b[39;49m\u001b[39m\"\u001b[39;49m,\n\u001b[1;32m    924\u001b[0m         )\n\u001b[1;32m    926\u001b[0m \u001b[39mif\u001b[39;00m ensure_min_samples \u001b[39m>\u001b[39m \u001b[39m0\u001b[39m:\n\u001b[1;32m    927\u001b[0m     n_samples \u001b[39m=\u001b[39m _num_samples(array)\n",
      "File \u001b[0;32m~/anaconda3/envs/thesis/lib/python3.10/site-packages/sklearn/utils/validation.py:161\u001b[0m, in \u001b[0;36m_assert_all_finite\u001b[0;34m(X, allow_nan, msg_dtype, estimator_name, input_name)\u001b[0m\n\u001b[1;32m    144\u001b[0m \u001b[39mif\u001b[39;00m estimator_name \u001b[39mand\u001b[39;00m input_name \u001b[39m==\u001b[39m \u001b[39m\"\u001b[39m\u001b[39mX\u001b[39m\u001b[39m\"\u001b[39m \u001b[39mand\u001b[39;00m has_nan_error:\n\u001b[1;32m    145\u001b[0m     \u001b[39m# Improve the error message on how to handle missing values in\u001b[39;00m\n\u001b[1;32m    146\u001b[0m     \u001b[39m# scikit-learn.\u001b[39;00m\n\u001b[1;32m    147\u001b[0m     msg_err \u001b[39m+\u001b[39m\u001b[39m=\u001b[39m (\n\u001b[1;32m    148\u001b[0m         \u001b[39mf\u001b[39m\u001b[39m\"\u001b[39m\u001b[39m\\n\u001b[39;00m\u001b[39m{\u001b[39;00mestimator_name\u001b[39m}\u001b[39;00m\u001b[39m does not accept missing values\u001b[39m\u001b[39m\"\u001b[39m\n\u001b[1;32m    149\u001b[0m         \u001b[39m\"\u001b[39m\u001b[39m encoded as NaN natively. For supervised learning, you might want\u001b[39m\u001b[39m\"\u001b[39m\n\u001b[0;32m   (...)\u001b[0m\n\u001b[1;32m    159\u001b[0m         \u001b[39m\"\u001b[39m\u001b[39m#estimators-that-handle-nan-values\u001b[39m\u001b[39m\"\u001b[39m\n\u001b[1;32m    160\u001b[0m     )\n\u001b[0;32m--> 161\u001b[0m \u001b[39mraise\u001b[39;00m \u001b[39mValueError\u001b[39;00m(msg_err)\n",
      "\u001b[0;31mValueError\u001b[0m: Input y contains NaN."
     ]
    }
   ],
   "source": [
    "timeperiod_differences(\"./Data/Netherlands/combined_data.csv\", \"Netherlands\")"
   ]
  },
  {
   "cell_type": "code",
   "execution_count": null,
   "metadata": {},
   "outputs": [
    {
     "name": "stdout",
     "output_type": "stream",
     "text": [
      "Pre-COVID in Germany\n",
      "Low thresh LNG coefficient = 0.4811061528595858, Demand Coefficient = 2.8718952684058698e-05\n",
      "Med thresh LNG coefficient = 0.47557108741393644, Demand Coefficient = 2.929671697746013e-05\n",
      "High thresh LNG coefficient = 0.6201098647713124,  Demand Coefficent = 0.01574170854404107\n",
      "COVID Era in Germany\n",
      "Low thresh LNG coefficient = 1.31565309147108, Demand Coefficient = 5.027830489509379e-05\n",
      "Med thresh LNG coefficient = 1.3328411063059178, Demand Coefficient = 5.107458209133923e-05\n",
      "High thresh LNG coefficient = 1.0615515205670298,  Demand Coefficent = 0.015670566229691985\n",
      "War in Ukraine Era in Germany\n",
      "Low thresh LNG coefficient = 0.9348640834803308, Demand Coefficient = 4.0338906916548105e-05\n",
      "Med thresh LNG coefficient = 0.949901450745462, Demand Coefficient = 4.1968820460070125e-05\n",
      "High thresh LNG coefficient = 0.037662041862716586,  Demand Coefficent = 0.024663783415128485\n"
     ]
    }
   ],
   "source": [
    "timeperiod_differences(\"./Data/Germany/combined_data.csv\", \"Germany\")"
   ]
  }
 ],
 "metadata": {
  "kernelspec": {
   "display_name": "thesis",
   "language": "python",
   "name": "python3"
  },
  "language_info": {
   "codemirror_mode": {
    "name": "ipython",
    "version": 3
   },
   "file_extension": ".py",
   "mimetype": "text/x-python",
   "name": "python",
   "nbconvert_exporter": "python",
   "pygments_lexer": "ipython3",
   "version": "3.10.8"
  },
  "orig_nbformat": 4,
  "vscode": {
   "interpreter": {
    "hash": "06fe89a5f4e9a3ac2ecb86ca59945e3632fbd62854f53839f6675029cf8e446f"
   }
  }
 },
 "nbformat": 4,
 "nbformat_minor": 2
}
